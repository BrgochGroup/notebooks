{
 "cells": [
  {
   "cell_type": "markdown",
   "metadata": {},
   "source": [
    "# Loading training data"
   ]
  },
  {
   "cell_type": "code",
   "execution_count": null,
   "metadata": {},
   "outputs": [],
   "source": [
    "import os\n",
    "print('Current working directory path:',os.getcwd())\n",
    "os.chdir(r'C:\\Users\\zzhang58\\Downloads')\n",
    "print(os.getcwd())"
   ]
  },
  {
   "cell_type": "code",
   "execution_count": null,
   "metadata": {},
   "outputs": [],
   "source": [
    "import pandas as pd\n",
    "DE = pd.read_excel('descriptors.xlsx')\n",
    "array = DE.values\n",
    "print(array.shape)"
   ]
  },
  {
   "cell_type": "code",
   "execution_count": null,
   "metadata": {},
   "outputs": [],
   "source": [
    "X = array[:,1:141]\n",
    "Y = array[:,0]"
   ]
  },
  {
   "cell_type": "markdown",
   "metadata": {},
   "source": [
    "# data spliting"
   ]
  },
  {
   "cell_type": "code",
   "execution_count": 4,
   "metadata": {},
   "outputs": [],
   "source": [
    "from sklearn.model_selection import train_test_split\n",
    "X_train, X_test, y_train, y_test = train_test_split(X, Y, train_size=0.9, test_size=0.1,random_state=100, shuffle=True)"
   ]
  },
  {
   "cell_type": "markdown",
   "metadata": {},
   "source": [
    "# preprocessing"
   ]
  },
  {
   "cell_type": "code",
   "execution_count": 5,
   "metadata": {},
   "outputs": [],
   "source": [
    "from sklearn import preprocessing\n",
    "scaler = preprocessing.StandardScaler().fit(X_train)\n",
    "X_train = scaler.transform(X_train)\n",
    "X_test = scaler.transform(X_test)\n",
    "normalizer = preprocessing.Normalizer().fit(X_train)\n",
    "X_train=normalizer.transform(X_train)\n",
    "X_test=normalizer.transform(X_test)\n",
    "\n",
    "scaler = preprocessing.StandardScaler().fit(X)\n",
    "X = scaler.transform(X)\n",
    "normalizer = preprocessing.Normalizer().fit(X)\n",
    "X = normalizer.transform(X)"
   ]
  },
  {
   "cell_type": "markdown",
   "metadata": {},
   "source": [
    "# parameters optimizing"
   ]
  },
  {
   "cell_type": "code",
   "execution_count": null,
   "metadata": {},
   "outputs": [],
   "source": [
    "from sklearn.svm import SVR\n",
    "from sklearn.model_selection import GridSearchCV\n",
    "param_grid = {'C': [1, 5, 10, 30, 50, 100],'gamma': [0.001, 0.1, 1, 10]}\n",
    "grid = GridSearchCV(SVR(), param_grid=param_grid, cv=10)\n",
    "grid.fit(X_train, y_train)\n",
    "print(grid.best_params_)"
   ]
  },
  {
   "cell_type": "markdown",
   "metadata": {},
   "source": [
    "# modeling"
   ]
  },
  {
   "cell_type": "code",
   "execution_count": null,
   "metadata": {},
   "outputs": [],
   "source": [
    "%matplotlib inline\n",
    "\n",
    "from sklearn.metrics import mean_squared_error, r2_score\n",
    "import numpy as np\n",
    "import matplotlib.pyplot as plt\n",
    "\n",
    "SVM = SVR(**grid.best_params_).fit(X_train, y_train)\n",
    "predict_y = SVM.predict(X_test)\n",
    "predict1_y = SVM.predict(X_train)\n",
    "mse = mean_squared_error(y_test, predict_y)\n",
    "rmse = np.sqrt(mse)\n",
    "print(\"R2 on training set:%f\" % SVM.score(X_train, y_train))\n",
    "print(\"R2 on test set:%f\" % SVM.score(X_test, y_test))\n",
    "print(\"mse: %f, rmse: %f\" % (mse, rmse))\n",
    "\n",
    "fig, ax = plt.subplots()\n",
    "ax.scatter(y_test, predict_y, edgecolors=(0, 0, 0))\n",
    "ax.plot([y_test.min(), y_test.max()], [y_test.min(), y_test.max()], 'k--', lw=4)\n",
    "ax.set_xlabel('Measured')\n",
    "ax.set_ylabel('Predicted')\n",
    "plt.show()"
   ]
  },
  {
   "cell_type": "markdown",
   "metadata": {},
   "source": [
    "# Test for consistency in accuracy validation (Changing Random State)"
   ]
  },
  {
   "cell_type": "code",
   "execution_count": null,
   "metadata": {},
   "outputs": [],
   "source": [
    "from sklearn import metrics\n",
    "ytests = []\n",
    "ypreds = []\n",
    "\n",
    "fig, ax = plt.subplots()\n",
    "for i in range(0,150,15):\n",
    "    X_train, X_test, y_train, y_test = train_test_split(X, Y, train_size=0.9, test_size=0.1,random_state=i, shuffle=True)\n",
    "    scaler = preprocessing.StandardScaler().fit(X_train)\n",
    "    X_train = scaler.transform(X_train)\n",
    "    X_test = scaler.transform(X_test)\n",
    "    normalizer = preprocessing.Normalizer().fit(X_train)\n",
    "    X_train=normalizer.transform(X_train)\n",
    "    X_test=normalizer.transform(X_test)\n",
    "    param_grid = {'C': [1],'gamma': [0.1]}\n",
    "    grid = GridSearchCV(SVR(), param_grid=param_grid, cv=10)\n",
    "    grid.fit(X_train, y_train)\n",
    "    SVM = SVR(**grid.best_params_).fit(X_train, y_train)\n",
    "    predict_y = SVM.predict(X_test)\n",
    "    predict1_y = SVM.predict(X_train)\n",
    "    mse = mean_squared_error(y_test, predict_y)\n",
    "    rmse = np.sqrt(mse)\n",
    "    print(\"R2 on test set:%f\" % SVM.score(X_test, y_test))\n",
    "    ytests += list(y_test)\n",
    "    ypreds += list(predict_y)\n",
    "    # plotting lowest score\n",
    "    if i == 15:\n",
    "        ax.scatter(y_test, predict_y, color=(1,0,0), edgecolors=(0, 0, 0))\n",
    "        ax.plot([y_test.min(), y_test.max()], [y_test.min(), y_test.max()], 'k--', lw=4)\n",
    "    # plotting highest score\n",
    "    if i == 120:\n",
    "        ax.scatter(y_test, predict_y, color=(0,1,0), edgecolors=(0, 0, 0))\n",
    "        ax.plot([y_test.min(), y_test.max()], [y_test.min(), y_test.max()], 'k--', lw=4)\n",
    "    # plotting mid point\n",
    "    #if i == 30:\n",
    "        #ax.scatter(y_test, predict_y, edgecolors=(0, 0, 0))\n",
    "        #ax.plot([y_test.min(), y_test.max()], [y_test.min(), y_test.max()], 'k--', lw=4)    \n",
    "        \n",
    "rr = metrics.r2_score(ytests, ypreds)\n",
    "ms_error = metrics.mean_squared_error(ytests, ypreds)\n",
    "print(\"R^2: {:.5f}%, MSE: {:.5f}\".format(rr*100, ms_error))\n",
    "ax.set_xlabel('Measured')\n",
    "ax.set_ylabel('Predicted')    \n",
    "plt.show()"
   ]
  },
  {
   "cell_type": "code",
   "execution_count": null,
   "metadata": {},
   "outputs": [],
   "source": []
  }
 ],
 "metadata": {
  "kernelspec": {
   "display_name": "Python 3",
   "language": "python",
   "name": "python3"
  },
  "language_info": {
   "codemirror_mode": {
    "name": "ipython",
    "version": 3
   },
   "file_extension": ".py",
   "mimetype": "text/x-python",
   "name": "python",
   "nbconvert_exporter": "python",
   "pygments_lexer": "ipython3",
   "version": "3.6.5"
  }
 },
 "nbformat": 4,
 "nbformat_minor": 2
}
